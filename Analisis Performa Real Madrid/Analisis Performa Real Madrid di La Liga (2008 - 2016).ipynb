{
 "cells": [
  {
   "cell_type": "markdown",
   "id": "c2e752ec",
   "metadata": {},
   "source": [
    "# Pendahuluan\n",
    "\n",
    "Pada notebook ini akan dilakukan analisis terhadap performa Real Madrid di La Liga untuk musim 2008/2009 hingga 2015/2016. Data yang digunakan adalah data European Soccer Database dari kaggle (https://www.kaggle.com/datasets/hugomathien/soccer). Notebook ini hanya digunakan sebagai portofolio saya dan sarana latihan bagi saya. Oleh karena itu notebook ini bukan digunakan untuk kepentingan komersil."
   ]
  },
  {
   "cell_type": "code",
   "execution_count": 1,
   "id": "40c4e374",
   "metadata": {},
   "outputs": [
    {
     "data": {
      "text/plain": [
       "<function seaborn.rcmod.set(*args, **kwargs)>"
      ]
     },
     "execution_count": 1,
     "metadata": {},
     "output_type": "execute_result"
    }
   ],
   "source": [
    "# Import modul yang diperlukan\n",
    "import numpy as np\n",
    "import pandas as pd\n",
    "import sqlite3 #modul untuk mengakses database sqlite\n",
    "import matplotlib.pyplot as plt\n",
    "import seaborn as sns\n",
    "sns.set"
   ]
  },
  {
   "cell_type": "code",
   "execution_count": 2,
   "id": "0f2587cb",
   "metadata": {},
   "outputs": [],
   "source": [
    "# koneksi dengan database sqlite\n",
    "conn = sqlite3.connect(\"\\path\\database.sqlite\")"
   ]
  },
  {
   "cell_type": "code",
   "execution_count": 3,
   "id": "ad6f9f34",
   "metadata": {},
   "outputs": [
    {
     "data": {
      "text/html": [
       "<div>\n",
       "<style scoped>\n",
       "    .dataframe tbody tr th:only-of-type {\n",
       "        vertical-align: middle;\n",
       "    }\n",
       "\n",
       "    .dataframe tbody tr th {\n",
       "        vertical-align: top;\n",
       "    }\n",
       "\n",
       "    .dataframe thead th {\n",
       "        text-align: right;\n",
       "    }\n",
       "</style>\n",
       "<table border=\"1\" class=\"dataframe\">\n",
       "  <thead>\n",
       "    <tr style=\"text-align: right;\">\n",
       "      <th></th>\n",
       "      <th>type</th>\n",
       "      <th>name</th>\n",
       "      <th>tbl_name</th>\n",
       "      <th>rootpage</th>\n",
       "      <th>sql</th>\n",
       "    </tr>\n",
       "  </thead>\n",
       "  <tbody>\n",
       "    <tr>\n",
       "      <th>0</th>\n",
       "      <td>table</td>\n",
       "      <td>sqlite_sequence</td>\n",
       "      <td>sqlite_sequence</td>\n",
       "      <td>4</td>\n",
       "      <td>CREATE TABLE sqlite_sequence(name,seq)</td>\n",
       "    </tr>\n",
       "    <tr>\n",
       "      <th>1</th>\n",
       "      <td>table</td>\n",
       "      <td>Player_Attributes</td>\n",
       "      <td>Player_Attributes</td>\n",
       "      <td>11</td>\n",
       "      <td>CREATE TABLE \"Player_Attributes\" (\\n\\t`id`\\tIN...</td>\n",
       "    </tr>\n",
       "    <tr>\n",
       "      <th>2</th>\n",
       "      <td>table</td>\n",
       "      <td>Player</td>\n",
       "      <td>Player</td>\n",
       "      <td>14</td>\n",
       "      <td>CREATE TABLE `Player` (\\n\\t`id`\\tINTEGER PRIMA...</td>\n",
       "    </tr>\n",
       "    <tr>\n",
       "      <th>3</th>\n",
       "      <td>table</td>\n",
       "      <td>Match</td>\n",
       "      <td>Match</td>\n",
       "      <td>18</td>\n",
       "      <td>CREATE TABLE `Match` (\\n\\t`id`\\tINTEGER PRIMAR...</td>\n",
       "    </tr>\n",
       "    <tr>\n",
       "      <th>4</th>\n",
       "      <td>table</td>\n",
       "      <td>League</td>\n",
       "      <td>League</td>\n",
       "      <td>24</td>\n",
       "      <td>CREATE TABLE `League` (\\n\\t`id`\\tINTEGER PRIMA...</td>\n",
       "    </tr>\n",
       "    <tr>\n",
       "      <th>5</th>\n",
       "      <td>table</td>\n",
       "      <td>Country</td>\n",
       "      <td>Country</td>\n",
       "      <td>26</td>\n",
       "      <td>CREATE TABLE `Country` (\\n\\t`id`\\tINTEGER PRIM...</td>\n",
       "    </tr>\n",
       "    <tr>\n",
       "      <th>6</th>\n",
       "      <td>table</td>\n",
       "      <td>Team</td>\n",
       "      <td>Team</td>\n",
       "      <td>29</td>\n",
       "      <td>CREATE TABLE \"Team\" (\\n\\t`id`\\tINTEGER PRIMARY...</td>\n",
       "    </tr>\n",
       "    <tr>\n",
       "      <th>7</th>\n",
       "      <td>table</td>\n",
       "      <td>Team_Attributes</td>\n",
       "      <td>Team_Attributes</td>\n",
       "      <td>2</td>\n",
       "      <td>CREATE TABLE `Team_Attributes` (\\n\\t`id`\\tINTE...</td>\n",
       "    </tr>\n",
       "  </tbody>\n",
       "</table>\n",
       "</div>"
      ],
      "text/plain": [
       "    type               name           tbl_name  rootpage  \\\n",
       "0  table    sqlite_sequence    sqlite_sequence         4   \n",
       "1  table  Player_Attributes  Player_Attributes        11   \n",
       "2  table             Player             Player        14   \n",
       "3  table              Match              Match        18   \n",
       "4  table             League             League        24   \n",
       "5  table            Country            Country        26   \n",
       "6  table               Team               Team        29   \n",
       "7  table    Team_Attributes    Team_Attributes         2   \n",
       "\n",
       "                                                 sql  \n",
       "0             CREATE TABLE sqlite_sequence(name,seq)  \n",
       "1  CREATE TABLE \"Player_Attributes\" (\\n\\t`id`\\tIN...  \n",
       "2  CREATE TABLE `Player` (\\n\\t`id`\\tINTEGER PRIMA...  \n",
       "3  CREATE TABLE `Match` (\\n\\t`id`\\tINTEGER PRIMAR...  \n",
       "4  CREATE TABLE `League` (\\n\\t`id`\\tINTEGER PRIMA...  \n",
       "5  CREATE TABLE `Country` (\\n\\t`id`\\tINTEGER PRIM...  \n",
       "6  CREATE TABLE \"Team\" (\\n\\t`id`\\tINTEGER PRIMARY...  \n",
       "7  CREATE TABLE `Team_Attributes` (\\n\\t`id`\\tINTE...  "
      ]
     },
     "execution_count": 3,
     "metadata": {},
     "output_type": "execute_result"
    }
   ],
   "source": [
    "#Rician database European Soccer Database\n",
    "tables = pd.read_sql(\"\"\"SELECT *\n",
    "                        FROM sqlite_master\n",
    "                        WHERE type='table';\"\"\", conn)\n",
    "tables"
   ]
  },
  {
   "cell_type": "code",
   "execution_count": 4,
   "id": "1be52a12",
   "metadata": {
    "scrolled": true
   },
   "outputs": [
    {
     "data": {
      "text/html": [
       "<div>\n",
       "<style scoped>\n",
       "    .dataframe tbody tr th:only-of-type {\n",
       "        vertical-align: middle;\n",
       "    }\n",
       "\n",
       "    .dataframe tbody tr th {\n",
       "        vertical-align: top;\n",
       "    }\n",
       "\n",
       "    .dataframe thead th {\n",
       "        text-align: right;\n",
       "    }\n",
       "</style>\n",
       "<table border=\"1\" class=\"dataframe\">\n",
       "  <thead>\n",
       "    <tr style=\"text-align: right;\">\n",
       "      <th></th>\n",
       "      <th>season</th>\n",
       "      <th>date</th>\n",
       "      <th>home_team</th>\n",
       "      <th>away_team</th>\n",
       "      <th>home_team_goal</th>\n",
       "      <th>away_team_goal</th>\n",
       "      <th>posisi</th>\n",
       "      <th>goal_RM</th>\n",
       "      <th>goal_lawan</th>\n",
       "      <th>Hasil_RM</th>\n",
       "    </tr>\n",
       "  </thead>\n",
       "  <tbody>\n",
       "    <tr>\n",
       "      <th>0</th>\n",
       "      <td>2008/2009</td>\n",
       "      <td>2008-08-31</td>\n",
       "      <td>RC Deportivo de La Coruña</td>\n",
       "      <td>Real Madrid CF</td>\n",
       "      <td>2</td>\n",
       "      <td>1</td>\n",
       "      <td>Tandang</td>\n",
       "      <td>1</td>\n",
       "      <td>2</td>\n",
       "      <td>Kalah</td>\n",
       "    </tr>\n",
       "    <tr>\n",
       "      <th>1</th>\n",
       "      <td>2008/2009</td>\n",
       "      <td>2008-09-14</td>\n",
       "      <td>Real Madrid CF</td>\n",
       "      <td>CD Numancia</td>\n",
       "      <td>4</td>\n",
       "      <td>3</td>\n",
       "      <td>Kandang</td>\n",
       "      <td>4</td>\n",
       "      <td>3</td>\n",
       "      <td>Menang</td>\n",
       "    </tr>\n",
       "    <tr>\n",
       "      <th>2</th>\n",
       "      <td>2008/2009</td>\n",
       "      <td>2008-09-21</td>\n",
       "      <td>Racing Santander</td>\n",
       "      <td>Real Madrid CF</td>\n",
       "      <td>0</td>\n",
       "      <td>2</td>\n",
       "      <td>Tandang</td>\n",
       "      <td>2</td>\n",
       "      <td>0</td>\n",
       "      <td>Menang</td>\n",
       "    </tr>\n",
       "    <tr>\n",
       "      <th>3</th>\n",
       "      <td>2008/2009</td>\n",
       "      <td>2008-09-24</td>\n",
       "      <td>Real Madrid CF</td>\n",
       "      <td>Real Sporting de Gijón</td>\n",
       "      <td>7</td>\n",
       "      <td>1</td>\n",
       "      <td>Kandang</td>\n",
       "      <td>7</td>\n",
       "      <td>1</td>\n",
       "      <td>Menang</td>\n",
       "    </tr>\n",
       "    <tr>\n",
       "      <th>4</th>\n",
       "      <td>2008/2009</td>\n",
       "      <td>2008-09-27</td>\n",
       "      <td>Real Betis Balompié</td>\n",
       "      <td>Real Madrid CF</td>\n",
       "      <td>1</td>\n",
       "      <td>2</td>\n",
       "      <td>Tandang</td>\n",
       "      <td>2</td>\n",
       "      <td>1</td>\n",
       "      <td>Menang</td>\n",
       "    </tr>\n",
       "  </tbody>\n",
       "</table>\n",
       "</div>"
      ],
      "text/plain": [
       "      season       date                  home_team               away_team  \\\n",
       "0  2008/2009 2008-08-31  RC Deportivo de La Coruña          Real Madrid CF   \n",
       "1  2008/2009 2008-09-14             Real Madrid CF             CD Numancia   \n",
       "2  2008/2009 2008-09-21           Racing Santander          Real Madrid CF   \n",
       "3  2008/2009 2008-09-24             Real Madrid CF  Real Sporting de Gijón   \n",
       "4  2008/2009 2008-09-27        Real Betis Balompié          Real Madrid CF   \n",
       "\n",
       "   home_team_goal  away_team_goal   posisi  goal_RM  goal_lawan Hasil_RM  \n",
       "0               2               1  Tandang        1           2    Kalah  \n",
       "1               4               3  Kandang        4           3   Menang  \n",
       "2               0               2  Tandang        2           0   Menang  \n",
       "3               7               1  Kandang        7           1   Menang  \n",
       "4               1               2  Tandang        2           1   Menang  "
      ]
     },
     "execution_count": 4,
     "metadata": {},
     "output_type": "execute_result"
    }
   ],
   "source": [
    "# query sql\n",
    "Hasil_RM_raw = pd.read_sql(\n",
    "    \"\"\"Select season, date, t1.team_long_name home_team, t2.team_long_name away_team, home_team_goal, away_team_goal,\n",
    "case \n",
    "when t1.team_long_name = 'Real Madrid CF' then 'Kandang'\n",
    "when m.away_team_api_id = 8633 then 'Tandang' end as posisi,\n",
    "case \n",
    "when t1.team_long_name = 'Real Madrid CF' then home_team_goal\n",
    "when m.away_team_api_id = 8633 then away_team_goal end as goal_RM,\n",
    "case \n",
    "when t1.team_long_name = 'Real Madrid CF' then away_team_goal\n",
    "when m.away_team_api_id = 8633 then home_team_goal end as goal_lawan,\n",
    "case \n",
    "when t1.team_long_name = 'Real Madrid CF' and home_team_goal > away_team_goal then 'Menang'\n",
    "when t1.team_long_name = 'Real Madrid CF' and home_team_goal < away_team_goal then 'Kalah'\n",
    "when m.away_team_api_id = 8633 and home_team_goal < away_team_goal then 'Menang'\n",
    "when m.away_team_api_id = 8633 and home_team_goal > away_team_goal then 'Kalah'\n",
    "else 'Seri' end as Hasil_RM\n",
    "from Match m \n",
    "left join Team t1 on m.home_team_api_id = t1.team_api_id\n",
    "left join Team t2 on m.away_team_api_id = t2.team_api_id\n",
    "where country_id = 21518 and posisi is not null\n",
    "order by date;\"\"\", conn,parse_dates=['date']) #Mengambil data setiap pertandingan La Liga Real Madrid pada rentang tahun 2008-2015\n",
    "\n",
    "Hasil_RM_raw.head()"
   ]
  },
  {
   "cell_type": "code",
   "execution_count": 5,
   "id": "b02f173d",
   "metadata": {},
   "outputs": [
    {
     "data": {
      "text/plain": [
       "(304, 10)"
      ]
     },
     "execution_count": 5,
     "metadata": {},
     "output_type": "execute_result"
    }
   ],
   "source": [
    "Hasil_RM_raw.shape"
   ]
  },
  {
   "cell_type": "markdown",
   "id": "cd153110",
   "metadata": {},
   "source": [
    "Data ini memiliki 304 baris (records) dan memiliki 10 kolom. Adapun penjelasan tiap kolom adalah sebagai berikut:\n",
    "1. season: Menunjukkan season dari suatu pertandingan\n",
    "2. date: Menunjukkan tanggal dilaksanakannya pertandingan\n",
    "3. home_team: Menunjukkan tim yang berperan sebagai tuan rumah\n",
    "4. away_team: Menunjukkan tim yang berperan sebagai tim tamu\n",
    "5. home_team_goal: Jumlah gol yang dicetak oleh tim tuan rumah\n",
    "6. away_team_goal: Jumlah gol yang dicetak oleh tim tamu\n",
    "7. posisi: Posisi dari Real Madrid pada suatu pertandinga (tuan rumah atau tim tamu)\n",
    "8. goal_RM: Jumlah gol yang dicetak oleh Real Madrid pada suatu pertandingan\n",
    "9. goal_lawan: Jumlah gol kemasukan Real Madrid pada suatu pertandingan\n",
    "10. Hasil_RM: Hasil pertandingan yang didapati oleh Real Madrid"
   ]
  },
  {
   "cell_type": "code",
   "execution_count": 6,
   "id": "d8c2bfa5",
   "metadata": {},
   "outputs": [
    {
     "name": "stdout",
     "output_type": "stream",
     "text": [
      "<class 'pandas.core.frame.DataFrame'>\n",
      "RangeIndex: 304 entries, 0 to 303\n",
      "Data columns (total 10 columns):\n",
      " #   Column          Non-Null Count  Dtype         \n",
      "---  ------          --------------  -----         \n",
      " 0   season          304 non-null    object        \n",
      " 1   date            304 non-null    datetime64[ns]\n",
      " 2   home_team       304 non-null    object        \n",
      " 3   away_team       304 non-null    object        \n",
      " 4   home_team_goal  304 non-null    int64         \n",
      " 5   away_team_goal  304 non-null    int64         \n",
      " 6   posisi          304 non-null    object        \n",
      " 7   goal_RM         304 non-null    int64         \n",
      " 8   goal_lawan      304 non-null    int64         \n",
      " 9   Hasil_RM        304 non-null    object        \n",
      "dtypes: datetime64[ns](1), int64(4), object(5)\n",
      "memory usage: 23.9+ KB\n"
     ]
    }
   ],
   "source": [
    "Hasil_RM_raw.info()"
   ]
  },
  {
   "cell_type": "markdown",
   "id": "48e17952",
   "metadata": {},
   "source": [
    "Dapat terlihat dari info tersebut bahwa setiap kolom memiliki 304 non null records, sehingga dataset ini tidak memiliki *missing value*"
   ]
  },
  {
   "cell_type": "code",
   "execution_count": 7,
   "id": "794e3860",
   "metadata": {},
   "outputs": [
    {
     "data": {
      "text/plain": [
       "0"
      ]
     },
     "execution_count": 7,
     "metadata": {},
     "output_type": "execute_result"
    }
   ],
   "source": [
    "Hasil_RM_raw.duplicated().sum()"
   ]
  },
  {
   "cell_type": "markdown",
   "id": "872d0220",
   "metadata": {},
   "source": [
    "Dataset ini juga tidak memiliki data yang duplikat"
   ]
  },
  {
   "cell_type": "code",
   "execution_count": 8,
   "id": "ea55a650",
   "metadata": {},
   "outputs": [
    {
     "data": {
      "text/html": [
       "<div>\n",
       "<style scoped>\n",
       "    .dataframe tbody tr th:only-of-type {\n",
       "        vertical-align: middle;\n",
       "    }\n",
       "\n",
       "    .dataframe tbody tr th {\n",
       "        vertical-align: top;\n",
       "    }\n",
       "\n",
       "    .dataframe thead th {\n",
       "        text-align: right;\n",
       "    }\n",
       "</style>\n",
       "<table border=\"1\" class=\"dataframe\">\n",
       "  <thead>\n",
       "    <tr style=\"text-align: right;\">\n",
       "      <th></th>\n",
       "      <th>home_team_goal</th>\n",
       "      <th>away_team_goal</th>\n",
       "      <th>goal_RM</th>\n",
       "      <th>goal_lawan</th>\n",
       "    </tr>\n",
       "  </thead>\n",
       "  <tbody>\n",
       "    <tr>\n",
       "      <th>count</th>\n",
       "      <td>304.000000</td>\n",
       "      <td>304.000000</td>\n",
       "      <td>304.000000</td>\n",
       "      <td>304.000000</td>\n",
       "    </tr>\n",
       "    <tr>\n",
       "      <th>mean</th>\n",
       "      <td>2.177632</td>\n",
       "      <td>1.595395</td>\n",
       "      <td>2.773026</td>\n",
       "      <td>1.000000</td>\n",
       "    </tr>\n",
       "    <tr>\n",
       "      <th>std</th>\n",
       "      <td>1.879548</td>\n",
       "      <td>1.516938</td>\n",
       "      <td>1.832363</td>\n",
       "      <td>1.034073</td>\n",
       "    </tr>\n",
       "    <tr>\n",
       "      <th>min</th>\n",
       "      <td>0.000000</td>\n",
       "      <td>0.000000</td>\n",
       "      <td>0.000000</td>\n",
       "      <td>0.000000</td>\n",
       "    </tr>\n",
       "    <tr>\n",
       "      <th>25%</th>\n",
       "      <td>1.000000</td>\n",
       "      <td>0.000000</td>\n",
       "      <td>1.000000</td>\n",
       "      <td>0.000000</td>\n",
       "    </tr>\n",
       "    <tr>\n",
       "      <th>50%</th>\n",
       "      <td>2.000000</td>\n",
       "      <td>1.000000</td>\n",
       "      <td>3.000000</td>\n",
       "      <td>1.000000</td>\n",
       "    </tr>\n",
       "    <tr>\n",
       "      <th>75%</th>\n",
       "      <td>3.000000</td>\n",
       "      <td>2.000000</td>\n",
       "      <td>4.000000</td>\n",
       "      <td>2.000000</td>\n",
       "    </tr>\n",
       "    <tr>\n",
       "      <th>max</th>\n",
       "      <td>10.000000</td>\n",
       "      <td>8.000000</td>\n",
       "      <td>10.000000</td>\n",
       "      <td>6.000000</td>\n",
       "    </tr>\n",
       "  </tbody>\n",
       "</table>\n",
       "</div>"
      ],
      "text/plain": [
       "       home_team_goal  away_team_goal     goal_RM  goal_lawan\n",
       "count      304.000000      304.000000  304.000000  304.000000\n",
       "mean         2.177632        1.595395    2.773026    1.000000\n",
       "std          1.879548        1.516938    1.832363    1.034073\n",
       "min          0.000000        0.000000    0.000000    0.000000\n",
       "25%          1.000000        0.000000    1.000000    0.000000\n",
       "50%          2.000000        1.000000    3.000000    1.000000\n",
       "75%          3.000000        2.000000    4.000000    2.000000\n",
       "max         10.000000        8.000000   10.000000    6.000000"
      ]
     },
     "execution_count": 8,
     "metadata": {},
     "output_type": "execute_result"
    }
   ],
   "source": [
    "Hasil_RM_raw.describe()"
   ]
  },
  {
   "cell_type": "markdown",
   "id": "a5037dc0",
   "metadata": {},
   "source": [
    "Tabel di atas menunjukkan sekilas mengenai statistik deskriptif dari dataset. Ada beberapa hal yang dapat dipelajari:\n",
    "\n",
    "1. Real Madrid rata-rata memasukan sebanyak 2 hingga 3 gol per pertandingannya, gol terbanyak yang pernah Real Madrid cetak dalam satu pertandingan adalah 10 gol\n",
    "2. Real Madrid rata-rata hanya kemasukan 1 gol tiap pertandingannya, gol kemasukan terbanyak yang pernah Real Madrid alami dalam satu pertandingan adalah 6 gol\n",
    "3. Secara sekilas dapat terlihat bahwa rata-rata gol memasukan Real Madrid lebih tinggi daripada gol kemasukannya. Hal ini dapat menjadi indikasi awal bahwa Real Madrid lebih sering menang daripada seri atau kalah, tetapi hal ini perlu diperiksa lebih lanjut lagi."
   ]
  },
  {
   "cell_type": "code",
   "execution_count": 9,
   "id": "110a396e",
   "metadata": {},
   "outputs": [
    {
     "data": {
      "text/plain": [
       "([<matplotlib.patches.Wedge at 0x1f833b2a280>,\n",
       "  <matplotlib.patches.Wedge at 0x1f833b2a9d0>,\n",
       "  <matplotlib.patches.Wedge at 0x1f8341e0130>],\n",
       " [Text(1.0073506527883973, 0.4418649820101046, 'Kalah'),\n",
       "  Text(-1.0990603328820194, -0.04545750416889047, 'Menang'),\n",
       "  Text(1.024750212126957, -0.39985872848514487, 'Seri')],\n",
       " [Text(0.5494639924300347, 0.2410172629146025, '13.16%'),\n",
       "  Text(-0.5994874542992833, -0.024795002273940252, '75.00%'),\n",
       "  Text(0.5589546611601582, -0.21810476099189718, '11.84%')])"
      ]
     },
     "execution_count": 9,
     "metadata": {},
     "output_type": "execute_result"
    },
    {
     "data": {
      "image/png": "[encoded data removed]",
      "text/plain": [
       "<Figure size 432x288 with 1 Axes>"
      ]
     },
     "metadata": {},
     "output_type": "display_data"
    }
   ],
   "source": [
    "pie_hasil = Hasil_RM_raw.groupby('Hasil_RM')['date'].count().reset_index()\n",
    "plt.pie(pie_hasil['date'],labels=pie_hasil['Hasil_RM'], autopct='%1.2f%%')"
   ]
  },
  {
   "cell_type": "markdown",
   "id": "c0d2221e",
   "metadata": {},
   "source": [
    "Diagram pie tersebut mengkonfirmasi tebakan awal bahwa Real Madrid lebih sering menang. Selama 8 musim, Real Madrid memenangkan 75% pertandingan yang dilakoninya dan kalah 13,16% serta seri sebanyak 11,84%."
   ]
  },
  {
   "cell_type": "code",
   "execution_count": 10,
   "id": "c5f64f66",
   "metadata": {
    "scrolled": true
   },
   "outputs": [
    {
     "data": {
      "image/png": "[encoded data removed]",
      "text/plain": [
       "<Figure size 720x360 with 1 Axes>"
      ]
     },
     "metadata": {
      "needs_background": "light"
     },
     "output_type": "display_data"
    }
   ],
   "source": [
    "tren_musim = Hasil_RM_raw.groupby(['season','Hasil_RM'])['date'].count().unstack()\n",
    "tren_musim.plot()\n",
    "plt.title('Tren Hasil Pertandingan Real Madrid Tiap Musim', fontsize=20)\n",
    "plt.xlabel('Season')\n",
    "plt.ylabel('Jumlah Pertandingan')\n",
    "plt.gcf().set_size_inches(10, 5)"
   ]
  },
  {
   "cell_type": "markdown",
   "id": "8ba44e5b",
   "metadata": {},
   "source": [
    "Berdasarkan tren hasil tersebut terlihat bahwa tiap musimnya Real Madrid akan mendapatkan hasil kemenangan > 25 kali. Terjadi peningkatan signifikan terhadap performa Real Madrid pada musim 2009/2010 dari musim sebelumnya. Hal ini ditunjukkan oleh peningkatan jumlah kemenangan dan penurunan jumlah kekalahan. Salah satu faktor utama nya adalah pada musim tersebut Real Madrid melakukan transfer pemain dalam jumlah yang banyak."
   ]
  },
  {
   "cell_type": "code",
   "execution_count": 11,
   "id": "284d4b5b",
   "metadata": {},
   "outputs": [
    {
     "data": {
      "image/png": "[encoded data removed]",
      "text/plain": [
       "<Figure size 720x360 with 1 Axes>"
      ]
     },
     "metadata": {
      "needs_background": "light"
     },
     "output_type": "display_data"
    }
   ],
   "source": [
    "plt.plot(tren_musim['Menang']/38*100, color='green')\n",
    "plt.title('Persentase Kemenangan Real Madrid per Pertandingan Tiap Musim', fontsize=20, pad=20)\n",
    "plt.xlabel('Season', labelpad=10)\n",
    "plt.ylabel('Persentase (%)')\n",
    "plt.gcf().set_size_inches(10, 5)"
   ]
  },
  {
   "cell_type": "markdown",
   "id": "0291d5f1",
   "metadata": {},
   "source": [
    "Presentase kemenangan diperoleh Real Madrid pada musim 2011/2012 dengan 84%. Pada musim tersebut Real Madrid meraih gelar La Liga"
   ]
  },
  {
   "cell_type": "code",
   "execution_count": 12,
   "id": "8689a7cd",
   "metadata": {},
   "outputs": [
    {
     "data": {
      "image/png": "[encoded data removed]",
      "text/plain": [
       "<Figure size 720x360 with 1 Axes>"
      ]
     },
     "metadata": {
      "needs_background": "light"
     },
     "output_type": "display_data"
    }
   ],
   "source": [
    "tren_posisi = Hasil_RM_raw.groupby(['Hasil_RM','posisi'])['date'].count().unstack()\n",
    "tren_posisi.plot(kind='bar')\n",
    "plt.title('Hasil Pertandingan Real Madrid per Posisi', fontsize=20)\n",
    "plt.xlabel('Hasil', labelpad=10)\n",
    "plt.ylabel('Jumlah Pertandingan')\n",
    "plt.xticks(rotation=0)\n",
    "plt.gcf().set_size_inches(10, 5)"
   ]
  },
  {
   "cell_type": "markdown",
   "id": "63a9ed72",
   "metadata": {},
   "source": [
    "Berdasarkan grafik tersebut jelas terlihat bahwa posisi Real Madrid mempengaruhi hasil yang diperoleh. Umumnya Real Madrid lebih sering menang saat bermain di Kandang, sedangkan saat sedang bermain tandang jumlah hasil tidak menang (seri atau kalah) meningkat."
   ]
  },
  {
   "cell_type": "code",
   "execution_count": 13,
   "id": "7827fe21",
   "metadata": {},
   "outputs": [],
   "source": [
    "def lawan(df):\n",
    "    if df['posisi'] == 'Kandang':\n",
    "        val = df['away_team']\n",
    "    else:\n",
    "        val = df['home_team']\n",
    "    return val"
   ]
  },
  {
   "cell_type": "code",
   "execution_count": 14,
   "id": "4a6c8385",
   "metadata": {},
   "outputs": [],
   "source": [
    "Hasil_RM_raw['lawan'] = Hasil_RM_raw.apply(lawan,axis=1)"
   ]
  },
  {
   "cell_type": "code",
   "execution_count": 15,
   "id": "c51216a7",
   "metadata": {},
   "outputs": [
    {
     "data": {
      "text/html": [
       "<div>\n",
       "<style scoped>\n",
       "    .dataframe tbody tr th:only-of-type {\n",
       "        vertical-align: middle;\n",
       "    }\n",
       "\n",
       "    .dataframe tbody tr th {\n",
       "        vertical-align: top;\n",
       "    }\n",
       "\n",
       "    .dataframe thead th {\n",
       "        text-align: right;\n",
       "    }\n",
       "</style>\n",
       "<table border=\"1\" class=\"dataframe\">\n",
       "  <thead>\n",
       "    <tr style=\"text-align: right;\">\n",
       "      <th></th>\n",
       "      <th>season</th>\n",
       "      <th>date</th>\n",
       "      <th>home_team</th>\n",
       "      <th>away_team</th>\n",
       "      <th>home_team_goal</th>\n",
       "      <th>away_team_goal</th>\n",
       "      <th>posisi</th>\n",
       "      <th>goal_RM</th>\n",
       "      <th>goal_lawan</th>\n",
       "      <th>Hasil_RM</th>\n",
       "      <th>lawan</th>\n",
       "    </tr>\n",
       "  </thead>\n",
       "  <tbody>\n",
       "    <tr>\n",
       "      <th>0</th>\n",
       "      <td>2008/2009</td>\n",
       "      <td>2008-08-31</td>\n",
       "      <td>RC Deportivo de La Coruña</td>\n",
       "      <td>Real Madrid CF</td>\n",
       "      <td>2</td>\n",
       "      <td>1</td>\n",
       "      <td>Tandang</td>\n",
       "      <td>1</td>\n",
       "      <td>2</td>\n",
       "      <td>Kalah</td>\n",
       "      <td>RC Deportivo de La Coruña</td>\n",
       "    </tr>\n",
       "    <tr>\n",
       "      <th>1</th>\n",
       "      <td>2008/2009</td>\n",
       "      <td>2008-09-14</td>\n",
       "      <td>Real Madrid CF</td>\n",
       "      <td>CD Numancia</td>\n",
       "      <td>4</td>\n",
       "      <td>3</td>\n",
       "      <td>Kandang</td>\n",
       "      <td>4</td>\n",
       "      <td>3</td>\n",
       "      <td>Menang</td>\n",
       "      <td>CD Numancia</td>\n",
       "    </tr>\n",
       "    <tr>\n",
       "      <th>2</th>\n",
       "      <td>2008/2009</td>\n",
       "      <td>2008-09-21</td>\n",
       "      <td>Racing Santander</td>\n",
       "      <td>Real Madrid CF</td>\n",
       "      <td>0</td>\n",
       "      <td>2</td>\n",
       "      <td>Tandang</td>\n",
       "      <td>2</td>\n",
       "      <td>0</td>\n",
       "      <td>Menang</td>\n",
       "      <td>Racing Santander</td>\n",
       "    </tr>\n",
       "    <tr>\n",
       "      <th>3</th>\n",
       "      <td>2008/2009</td>\n",
       "      <td>2008-09-24</td>\n",
       "      <td>Real Madrid CF</td>\n",
       "      <td>Real Sporting de Gijón</td>\n",
       "      <td>7</td>\n",
       "      <td>1</td>\n",
       "      <td>Kandang</td>\n",
       "      <td>7</td>\n",
       "      <td>1</td>\n",
       "      <td>Menang</td>\n",
       "      <td>Real Sporting de Gijón</td>\n",
       "    </tr>\n",
       "    <tr>\n",
       "      <th>4</th>\n",
       "      <td>2008/2009</td>\n",
       "      <td>2008-09-27</td>\n",
       "      <td>Real Betis Balompié</td>\n",
       "      <td>Real Madrid CF</td>\n",
       "      <td>1</td>\n",
       "      <td>2</td>\n",
       "      <td>Tandang</td>\n",
       "      <td>2</td>\n",
       "      <td>1</td>\n",
       "      <td>Menang</td>\n",
       "      <td>Real Betis Balompié</td>\n",
       "    </tr>\n",
       "    <tr>\n",
       "      <th>...</th>\n",
       "      <td>...</td>\n",
       "      <td>...</td>\n",
       "      <td>...</td>\n",
       "      <td>...</td>\n",
       "      <td>...</td>\n",
       "      <td>...</td>\n",
       "      <td>...</td>\n",
       "      <td>...</td>\n",
       "      <td>...</td>\n",
       "      <td>...</td>\n",
       "      <td>...</td>\n",
       "    </tr>\n",
       "    <tr>\n",
       "      <th>299</th>\n",
       "      <td>2015/2016</td>\n",
       "      <td>2016-04-20</td>\n",
       "      <td>Real Madrid CF</td>\n",
       "      <td>Villarreal CF</td>\n",
       "      <td>3</td>\n",
       "      <td>0</td>\n",
       "      <td>Kandang</td>\n",
       "      <td>3</td>\n",
       "      <td>0</td>\n",
       "      <td>Menang</td>\n",
       "      <td>Villarreal CF</td>\n",
       "    </tr>\n",
       "    <tr>\n",
       "      <th>300</th>\n",
       "      <td>2015/2016</td>\n",
       "      <td>2016-04-23</td>\n",
       "      <td>Rayo Vallecano</td>\n",
       "      <td>Real Madrid CF</td>\n",
       "      <td>2</td>\n",
       "      <td>3</td>\n",
       "      <td>Tandang</td>\n",
       "      <td>3</td>\n",
       "      <td>2</td>\n",
       "      <td>Menang</td>\n",
       "      <td>Rayo Vallecano</td>\n",
       "    </tr>\n",
       "    <tr>\n",
       "      <th>301</th>\n",
       "      <td>2015/2016</td>\n",
       "      <td>2016-04-30</td>\n",
       "      <td>Real Sociedad</td>\n",
       "      <td>Real Madrid CF</td>\n",
       "      <td>0</td>\n",
       "      <td>1</td>\n",
       "      <td>Tandang</td>\n",
       "      <td>1</td>\n",
       "      <td>0</td>\n",
       "      <td>Menang</td>\n",
       "      <td>Real Sociedad</td>\n",
       "    </tr>\n",
       "    <tr>\n",
       "      <th>302</th>\n",
       "      <td>2015/2016</td>\n",
       "      <td>2016-05-08</td>\n",
       "      <td>Real Madrid CF</td>\n",
       "      <td>Valencia CF</td>\n",
       "      <td>3</td>\n",
       "      <td>2</td>\n",
       "      <td>Kandang</td>\n",
       "      <td>3</td>\n",
       "      <td>2</td>\n",
       "      <td>Menang</td>\n",
       "      <td>Valencia CF</td>\n",
       "    </tr>\n",
       "    <tr>\n",
       "      <th>303</th>\n",
       "      <td>2015/2016</td>\n",
       "      <td>2016-05-14</td>\n",
       "      <td>RC Deportivo de La Coruña</td>\n",
       "      <td>Real Madrid CF</td>\n",
       "      <td>0</td>\n",
       "      <td>2</td>\n",
       "      <td>Tandang</td>\n",
       "      <td>2</td>\n",
       "      <td>0</td>\n",
       "      <td>Menang</td>\n",
       "      <td>RC Deportivo de La Coruña</td>\n",
       "    </tr>\n",
       "  </tbody>\n",
       "</table>\n",
       "<p>304 rows × 11 columns</p>\n",
       "</div>"
      ],
      "text/plain": [
       "        season       date                  home_team               away_team  \\\n",
       "0    2008/2009 2008-08-31  RC Deportivo de La Coruña          Real Madrid CF   \n",
       "1    2008/2009 2008-09-14             Real Madrid CF             CD Numancia   \n",
       "2    2008/2009 2008-09-21           Racing Santander          Real Madrid CF   \n",
       "3    2008/2009 2008-09-24             Real Madrid CF  Real Sporting de Gijón   \n",
       "4    2008/2009 2008-09-27        Real Betis Balompié          Real Madrid CF   \n",
       "..         ...        ...                        ...                     ...   \n",
       "299  2015/2016 2016-04-20             Real Madrid CF           Villarreal CF   \n",
       "300  2015/2016 2016-04-23             Rayo Vallecano          Real Madrid CF   \n",
       "301  2015/2016 2016-04-30              Real Sociedad          Real Madrid CF   \n",
       "302  2015/2016 2016-05-08             Real Madrid CF             Valencia CF   \n",
       "303  2015/2016 2016-05-14  RC Deportivo de La Coruña          Real Madrid CF   \n",
       "\n",
       "     home_team_goal  away_team_goal   posisi  goal_RM  goal_lawan Hasil_RM  \\\n",
       "0                 2               1  Tandang        1           2    Kalah   \n",
       "1                 4               3  Kandang        4           3   Menang   \n",
       "2                 0               2  Tandang        2           0   Menang   \n",
       "3                 7               1  Kandang        7           1   Menang   \n",
       "4                 1               2  Tandang        2           1   Menang   \n",
       "..              ...             ...      ...      ...         ...      ...   \n",
       "299               3               0  Kandang        3           0   Menang   \n",
       "300               2               3  Tandang        3           2   Menang   \n",
       "301               0               1  Tandang        1           0   Menang   \n",
       "302               3               2  Kandang        3           2   Menang   \n",
       "303               0               2  Tandang        2           0   Menang   \n",
       "\n",
       "                         lawan  \n",
       "0    RC Deportivo de La Coruña  \n",
       "1                  CD Numancia  \n",
       "2             Racing Santander  \n",
       "3       Real Sporting de Gijón  \n",
       "4          Real Betis Balompié  \n",
       "..                         ...  \n",
       "299              Villarreal CF  \n",
       "300             Rayo Vallecano  \n",
       "301              Real Sociedad  \n",
       "302                Valencia CF  \n",
       "303  RC Deportivo de La Coruña  \n",
       "\n",
       "[304 rows x 11 columns]"
      ]
     },
     "execution_count": 15,
     "metadata": {},
     "output_type": "execute_result"
    }
   ],
   "source": [
    "Hasil_RM_raw"
   ]
  },
  {
   "cell_type": "code",
   "execution_count": 16,
   "id": "2a28fcb4",
   "metadata": {},
   "outputs": [
    {
     "data": {
      "text/html": [
       "<div>\n",
       "<style scoped>\n",
       "    .dataframe tbody tr th:only-of-type {\n",
       "        vertical-align: middle;\n",
       "    }\n",
       "\n",
       "    .dataframe tbody tr th {\n",
       "        vertical-align: top;\n",
       "    }\n",
       "\n",
       "    .dataframe thead th {\n",
       "        text-align: right;\n",
       "    }\n",
       "</style>\n",
       "<table border=\"1\" class=\"dataframe\">\n",
       "  <thead>\n",
       "    <tr style=\"text-align: right;\">\n",
       "      <th>Hasil_RM</th>\n",
       "      <th>lawan</th>\n",
       "      <th>Kalah</th>\n",
       "      <th>Menang</th>\n",
       "      <th>Seri</th>\n",
       "    </tr>\n",
       "  </thead>\n",
       "  <tbody>\n",
       "    <tr>\n",
       "      <th>0</th>\n",
       "      <td>Athletic Club de Bilbao</td>\n",
       "      <td>2.0</td>\n",
       "      <td>13.0</td>\n",
       "      <td>1.0</td>\n",
       "    </tr>\n",
       "    <tr>\n",
       "      <th>1</th>\n",
       "      <td>Atlético Madrid</td>\n",
       "      <td>4.0</td>\n",
       "      <td>9.0</td>\n",
       "      <td>3.0</td>\n",
       "    </tr>\n",
       "    <tr>\n",
       "      <th>2</th>\n",
       "      <td>CA Osasuna</td>\n",
       "      <td>2.0</td>\n",
       "      <td>7.0</td>\n",
       "      <td>3.0</td>\n",
       "    </tr>\n",
       "    <tr>\n",
       "      <th>3</th>\n",
       "      <td>CD Numancia</td>\n",
       "      <td>0.0</td>\n",
       "      <td>2.0</td>\n",
       "      <td>0.0</td>\n",
       "    </tr>\n",
       "    <tr>\n",
       "      <th>4</th>\n",
       "      <td>CD Tenerife</td>\n",
       "      <td>0.0</td>\n",
       "      <td>2.0</td>\n",
       "      <td>0.0</td>\n",
       "    </tr>\n",
       "    <tr>\n",
       "      <th>5</th>\n",
       "      <td>Córdoba CF</td>\n",
       "      <td>0.0</td>\n",
       "      <td>2.0</td>\n",
       "      <td>0.0</td>\n",
       "    </tr>\n",
       "    <tr>\n",
       "      <th>6</th>\n",
       "      <td>Elche CF</td>\n",
       "      <td>0.0</td>\n",
       "      <td>4.0</td>\n",
       "      <td>0.0</td>\n",
       "    </tr>\n",
       "    <tr>\n",
       "      <th>7</th>\n",
       "      <td>FC Barcelona</td>\n",
       "      <td>10.0</td>\n",
       "      <td>4.0</td>\n",
       "      <td>2.0</td>\n",
       "    </tr>\n",
       "    <tr>\n",
       "      <th>8</th>\n",
       "      <td>Getafe CF</td>\n",
       "      <td>2.0</td>\n",
       "      <td>14.0</td>\n",
       "      <td>0.0</td>\n",
       "    </tr>\n",
       "    <tr>\n",
       "      <th>9</th>\n",
       "      <td>Granada CF</td>\n",
       "      <td>1.0</td>\n",
       "      <td>9.0</td>\n",
       "      <td>0.0</td>\n",
       "    </tr>\n",
       "    <tr>\n",
       "      <th>10</th>\n",
       "      <td>Hércules Club de Fútbol</td>\n",
       "      <td>0.0</td>\n",
       "      <td>2.0</td>\n",
       "      <td>0.0</td>\n",
       "    </tr>\n",
       "    <tr>\n",
       "      <th>11</th>\n",
       "      <td>Levante UD</td>\n",
       "      <td>1.0</td>\n",
       "      <td>10.0</td>\n",
       "      <td>1.0</td>\n",
       "    </tr>\n",
       "    <tr>\n",
       "      <th>12</th>\n",
       "      <td>Málaga CF</td>\n",
       "      <td>1.0</td>\n",
       "      <td>11.0</td>\n",
       "      <td>4.0</td>\n",
       "    </tr>\n",
       "    <tr>\n",
       "      <th>13</th>\n",
       "      <td>RC Celta de Vigo</td>\n",
       "      <td>1.0</td>\n",
       "      <td>7.0</td>\n",
       "      <td>0.0</td>\n",
       "    </tr>\n",
       "    <tr>\n",
       "      <th>14</th>\n",
       "      <td>RC Deportivo de La Coruña</td>\n",
       "      <td>1.0</td>\n",
       "      <td>10.0</td>\n",
       "      <td>1.0</td>\n",
       "    </tr>\n",
       "    <tr>\n",
       "      <th>15</th>\n",
       "      <td>RC Recreativo</td>\n",
       "      <td>0.0</td>\n",
       "      <td>2.0</td>\n",
       "      <td>0.0</td>\n",
       "    </tr>\n",
       "    <tr>\n",
       "      <th>16</th>\n",
       "      <td>RCD Espanyol</td>\n",
       "      <td>0.0</td>\n",
       "      <td>13.0</td>\n",
       "      <td>3.0</td>\n",
       "    </tr>\n",
       "    <tr>\n",
       "      <th>17</th>\n",
       "      <td>RCD Mallorca</td>\n",
       "      <td>1.0</td>\n",
       "      <td>8.0</td>\n",
       "      <td>1.0</td>\n",
       "    </tr>\n",
       "    <tr>\n",
       "      <th>18</th>\n",
       "      <td>Racing Santander</td>\n",
       "      <td>0.0</td>\n",
       "      <td>7.0</td>\n",
       "      <td>1.0</td>\n",
       "    </tr>\n",
       "    <tr>\n",
       "      <th>19</th>\n",
       "      <td>Rayo Vallecano</td>\n",
       "      <td>0.0</td>\n",
       "      <td>10.0</td>\n",
       "      <td>0.0</td>\n",
       "    </tr>\n",
       "    <tr>\n",
       "      <th>20</th>\n",
       "      <td>Real Betis Balompié</td>\n",
       "      <td>1.0</td>\n",
       "      <td>8.0</td>\n",
       "      <td>1.0</td>\n",
       "    </tr>\n",
       "    <tr>\n",
       "      <th>21</th>\n",
       "      <td>Real Sociedad</td>\n",
       "      <td>1.0</td>\n",
       "      <td>10.0</td>\n",
       "      <td>1.0</td>\n",
       "    </tr>\n",
       "    <tr>\n",
       "      <th>22</th>\n",
       "      <td>Real Sporting de Gijón</td>\n",
       "      <td>1.0</td>\n",
       "      <td>7.0</td>\n",
       "      <td>2.0</td>\n",
       "    </tr>\n",
       "    <tr>\n",
       "      <th>23</th>\n",
       "      <td>Real Valladolid</td>\n",
       "      <td>1.0</td>\n",
       "      <td>6.0</td>\n",
       "      <td>1.0</td>\n",
       "    </tr>\n",
       "    <tr>\n",
       "      <th>24</th>\n",
       "      <td>Real Zaragoza</td>\n",
       "      <td>1.0</td>\n",
       "      <td>6.0</td>\n",
       "      <td>1.0</td>\n",
       "    </tr>\n",
       "    <tr>\n",
       "      <th>25</th>\n",
       "      <td>SD Eibar</td>\n",
       "      <td>0.0</td>\n",
       "      <td>4.0</td>\n",
       "      <td>0.0</td>\n",
       "    </tr>\n",
       "    <tr>\n",
       "      <th>26</th>\n",
       "      <td>Sevilla FC</td>\n",
       "      <td>5.0</td>\n",
       "      <td>11.0</td>\n",
       "      <td>0.0</td>\n",
       "    </tr>\n",
       "    <tr>\n",
       "      <th>27</th>\n",
       "      <td>UD Almería</td>\n",
       "      <td>0.0</td>\n",
       "      <td>8.0</td>\n",
       "      <td>2.0</td>\n",
       "    </tr>\n",
       "    <tr>\n",
       "      <th>28</th>\n",
       "      <td>UD Las Palmas</td>\n",
       "      <td>0.0</td>\n",
       "      <td>2.0</td>\n",
       "      <td>0.0</td>\n",
       "    </tr>\n",
       "    <tr>\n",
       "      <th>29</th>\n",
       "      <td>Valencia CF</td>\n",
       "      <td>2.0</td>\n",
       "      <td>9.0</td>\n",
       "      <td>5.0</td>\n",
       "    </tr>\n",
       "    <tr>\n",
       "      <th>30</th>\n",
       "      <td>Villarreal CF</td>\n",
       "      <td>2.0</td>\n",
       "      <td>9.0</td>\n",
       "      <td>3.0</td>\n",
       "    </tr>\n",
       "    <tr>\n",
       "      <th>31</th>\n",
       "      <td>Xerez Club Deportivo</td>\n",
       "      <td>0.0</td>\n",
       "      <td>2.0</td>\n",
       "      <td>0.0</td>\n",
       "    </tr>\n",
       "  </tbody>\n",
       "</table>\n",
       "</div>"
      ],
      "text/plain": [
       "Hasil_RM                      lawan  Kalah  Menang  Seri\n",
       "0           Athletic Club de Bilbao    2.0    13.0   1.0\n",
       "1                   Atlético Madrid    4.0     9.0   3.0\n",
       "2                        CA Osasuna    2.0     7.0   3.0\n",
       "3                       CD Numancia    0.0     2.0   0.0\n",
       "4                       CD Tenerife    0.0     2.0   0.0\n",
       "5                        Córdoba CF    0.0     2.0   0.0\n",
       "6                          Elche CF    0.0     4.0   0.0\n",
       "7                      FC Barcelona   10.0     4.0   2.0\n",
       "8                         Getafe CF    2.0    14.0   0.0\n",
       "9                        Granada CF    1.0     9.0   0.0\n",
       "10          Hércules Club de Fútbol    0.0     2.0   0.0\n",
       "11                       Levante UD    1.0    10.0   1.0\n",
       "12                        Málaga CF    1.0    11.0   4.0\n",
       "13                 RC Celta de Vigo    1.0     7.0   0.0\n",
       "14        RC Deportivo de La Coruña    1.0    10.0   1.0\n",
       "15                    RC Recreativo    0.0     2.0   0.0\n",
       "16                     RCD Espanyol    0.0    13.0   3.0\n",
       "17                     RCD Mallorca    1.0     8.0   1.0\n",
       "18                 Racing Santander    0.0     7.0   1.0\n",
       "19                   Rayo Vallecano    0.0    10.0   0.0\n",
       "20              Real Betis Balompié    1.0     8.0   1.0\n",
       "21                    Real Sociedad    1.0    10.0   1.0\n",
       "22           Real Sporting de Gijón    1.0     7.0   2.0\n",
       "23                  Real Valladolid    1.0     6.0   1.0\n",
       "24                    Real Zaragoza    1.0     6.0   1.0\n",
       "25                         SD Eibar    0.0     4.0   0.0\n",
       "26                       Sevilla FC    5.0    11.0   0.0\n",
       "27                       UD Almería    0.0     8.0   2.0\n",
       "28                    UD Las Palmas    0.0     2.0   0.0\n",
       "29                      Valencia CF    2.0     9.0   5.0\n",
       "30                    Villarreal CF    2.0     9.0   3.0\n",
       "31             Xerez Club Deportivo    0.0     2.0   0.0"
      ]
     },
     "execution_count": 16,
     "metadata": {},
     "output_type": "execute_result"
    }
   ],
   "source": [
    "tren_lawan = Hasil_RM_raw.groupby(['lawan','Hasil_RM'])['date'].count().unstack().fillna(0).reset_index()\n",
    "tren_lawan"
   ]
  },
  {
   "cell_type": "code",
   "execution_count": 17,
   "id": "672b7d8a",
   "metadata": {},
   "outputs": [
    {
     "data": {
      "image/png": "[encoded data removed]",
      "text/plain": [
       "<Figure size 720x360 with 1 Axes>"
      ]
     },
     "metadata": {
      "needs_background": "light"
     },
     "output_type": "display_data"
    },
    {
     "data": {
      "image/png": "[encoded data removed]",
      "text/plain": [
       "<Figure size 720x360 with 1 Axes>"
      ]
     },
     "metadata": {
      "needs_background": "light"
     },
     "output_type": "display_data"
    },
    {
     "data": {
      "image/png": "[encoded data removed]",
      "text/plain": [
       "<Figure size 720x360 with 1 Axes>"
      ]
     },
     "metadata": {
      "needs_background": "light"
     },
     "output_type": "display_data"
    }
   ],
   "source": [
    "for hasil in Hasil_RM_raw['Hasil_RM'].unique():\n",
    "    tren_pie = tren_lawan.sort_values([hasil],ascending=False).head(5)\n",
    "    plt.bar(height=tren_pie[hasil],x=tren_pie['lawan'])\n",
    "    plt.gcf().set_size_inches(10, 5)\n",
    "    plt.xlabel('Tim Lawan', labelpad=10)\n",
    "    plt.ylabel('Jumlah Pertandingan')\n",
    "    plt.title(f'Top 5 Tim Lawan dengan Hasil {hasil}', fontsize=20)\n",
    "    plt.show()"
   ]
  },
  {
   "cell_type": "markdown",
   "id": "71e5ab85",
   "metadata": {},
   "source": [
    "Masing-masing tabel menunjukkan top 5 tim lawan dengan hasil tertentu. Sebagai contoh, Real Madrid paling sering kalah saat melawan Barcelona dengan total kekalahan 10 kali sedangkan Real Madrid paling sering menang melawan Getafe dengan 14x kemenangan."
   ]
  },
  {
   "cell_type": "code",
   "execution_count": 18,
   "id": "95d8e546",
   "metadata": {},
   "outputs": [],
   "source": [
    "Hasil_RM_raw['goal_diff'] = Hasil_RM_raw['goal_RM'] - Hasil_RM_raw['goal_lawan']"
   ]
  },
  {
   "cell_type": "code",
   "execution_count": 19,
   "id": "66a09264",
   "metadata": {},
   "outputs": [
    {
     "name": "stderr",
     "output_type": "stream",
     "text": [
      "C:\\Users\\Rizaldi\\anaconda3\\lib\\site-packages\\seaborn\\_decorators.py:36: FutureWarning: Pass the following variable as a keyword arg: x. From version 0.12, the only valid positional argument will be `data`, and passing other arguments without an explicit keyword will result in an error or misinterpretation.\n",
      "  warnings.warn(\n",
      "C:\\Users\\Rizaldi\\anaconda3\\lib\\site-packages\\seaborn\\_decorators.py:36: FutureWarning: Pass the following variable as a keyword arg: x. From version 0.12, the only valid positional argument will be `data`, and passing other arguments without an explicit keyword will result in an error or misinterpretation.\n",
      "  warnings.warn(\n",
      "C:\\Users\\Rizaldi\\anaconda3\\lib\\site-packages\\seaborn\\_decorators.py:36: FutureWarning: Pass the following variable as a keyword arg: x. From version 0.12, the only valid positional argument will be `data`, and passing other arguments without an explicit keyword will result in an error or misinterpretation.\n",
      "  warnings.warn(\n"
     ]
    },
    {
     "data": {
      "text/plain": [
       "<AxesSubplot:xlabel='goal_diff'>"
      ]
     },
     "execution_count": 19,
     "metadata": {},
     "output_type": "execute_result"
    },
    {
     "data": {
      "image/png": "[encoded data removed]",
      "text/plain": [
       "<Figure size 1080x360 with 3 Axes>"
      ]
     },
     "metadata": {
      "needs_background": "light"
     },
     "output_type": "display_data"
    }
   ],
   "source": [
    "fig, axes = plt.subplots(1,3,figsize=(15,5))\n",
    "sns.boxplot(Hasil_RM_raw['goal_RM'], ax=axes[0])\n",
    "sns.boxplot(Hasil_RM_raw['goal_lawan'], ax=axes[1])\n",
    "sns.boxplot(Hasil_RM_raw['goal_diff'], ax=axes[2])"
   ]
  },
  {
   "cell_type": "markdown",
   "id": "4e4db408",
   "metadata": {},
   "source": [
    "Dari boxplot tersebut dapat diperoleh beberapa informasi yaitu:\n",
    "1. Goal Memasukan: Real Madrid memiliki median gol memasukan sekitar 3 gol per laga nya, kemudian umumnya Real Madrid dapat memasukan 1 hingga 4 gol per laga nya\n",
    "2. Goal Kemasukan: Real Madrid memiliki median gol kemasukan sekitar 1 gol per laga nya, kemudian umumnya Real Madrid dapat kemasukan 0 hingga 2 gol per laga nya\n",
    "3. Selisih Goal: selisih gol Real Madrid memiliki median 2 gol per laganya dengan umumnya selisih gol antara 1 hingga 3 gol per laga nya."
   ]
  },
  {
   "cell_type": "code",
   "execution_count": 20,
   "id": "612f2c05",
   "metadata": {},
   "outputs": [
    {
     "data": {
      "text/html": [
       "<div>\n",
       "<style scoped>\n",
       "    .dataframe tbody tr th:only-of-type {\n",
       "        vertical-align: middle;\n",
       "    }\n",
       "\n",
       "    .dataframe tbody tr th {\n",
       "        vertical-align: top;\n",
       "    }\n",
       "\n",
       "    .dataframe thead th {\n",
       "        text-align: right;\n",
       "    }\n",
       "</style>\n",
       "<table border=\"1\" class=\"dataframe\">\n",
       "  <thead>\n",
       "    <tr style=\"text-align: right;\">\n",
       "      <th></th>\n",
       "      <th>season</th>\n",
       "      <th>goal_RM</th>\n",
       "      <th>goal_lawan</th>\n",
       "      <th>goal_diff</th>\n",
       "    </tr>\n",
       "  </thead>\n",
       "  <tbody>\n",
       "    <tr>\n",
       "      <th>0</th>\n",
       "      <td>2008/2009</td>\n",
       "      <td>83</td>\n",
       "      <td>52</td>\n",
       "      <td>31</td>\n",
       "    </tr>\n",
       "    <tr>\n",
       "      <th>1</th>\n",
       "      <td>2009/2010</td>\n",
       "      <td>102</td>\n",
       "      <td>35</td>\n",
       "      <td>67</td>\n",
       "    </tr>\n",
       "    <tr>\n",
       "      <th>2</th>\n",
       "      <td>2010/2011</td>\n",
       "      <td>102</td>\n",
       "      <td>33</td>\n",
       "      <td>69</td>\n",
       "    </tr>\n",
       "    <tr>\n",
       "      <th>3</th>\n",
       "      <td>2011/2012</td>\n",
       "      <td>121</td>\n",
       "      <td>32</td>\n",
       "      <td>89</td>\n",
       "    </tr>\n",
       "    <tr>\n",
       "      <th>4</th>\n",
       "      <td>2012/2013</td>\n",
       "      <td>103</td>\n",
       "      <td>42</td>\n",
       "      <td>61</td>\n",
       "    </tr>\n",
       "    <tr>\n",
       "      <th>5</th>\n",
       "      <td>2013/2014</td>\n",
       "      <td>104</td>\n",
       "      <td>38</td>\n",
       "      <td>66</td>\n",
       "    </tr>\n",
       "    <tr>\n",
       "      <th>6</th>\n",
       "      <td>2014/2015</td>\n",
       "      <td>118</td>\n",
       "      <td>38</td>\n",
       "      <td>80</td>\n",
       "    </tr>\n",
       "    <tr>\n",
       "      <th>7</th>\n",
       "      <td>2015/2016</td>\n",
       "      <td>110</td>\n",
       "      <td>34</td>\n",
       "      <td>76</td>\n",
       "    </tr>\n",
       "  </tbody>\n",
       "</table>\n",
       "</div>"
      ],
      "text/plain": [
       "      season  goal_RM  goal_lawan  goal_diff\n",
       "0  2008/2009       83          52         31\n",
       "1  2009/2010      102          35         67\n",
       "2  2010/2011      102          33         69\n",
       "3  2011/2012      121          32         89\n",
       "4  2012/2013      103          42         61\n",
       "5  2013/2014      104          38         66\n",
       "6  2014/2015      118          38         80\n",
       "7  2015/2016      110          34         76"
      ]
     },
     "execution_count": 20,
     "metadata": {},
     "output_type": "execute_result"
    }
   ],
   "source": [
    "trend_goal = Hasil_RM_raw.groupby('season')[['goal_RM','goal_lawan','goal_diff']].sum().reset_index()\n",
    "trend_goal"
   ]
  },
  {
   "cell_type": "code",
   "execution_count": 21,
   "id": "cfe1cb21",
   "metadata": {},
   "outputs": [
    {
     "data": {
      "image/png": "[encoded data removed]",
      "text/plain": [
       "<Figure size 720x360 with 1 Axes>"
      ]
     },
     "metadata": {
      "needs_background": "light"
     },
     "output_type": "display_data"
    },
    {
     "data": {
      "image/png": "[encoded data removed]",
      "text/plain": [
       "<Figure size 720x360 with 1 Axes>"
      ]
     },
     "metadata": {
      "needs_background": "light"
     },
     "output_type": "display_data"
    },
    {
     "data": {
      "image/png": "[encoded data removed]",
      "text/plain": [
       "<Figure size 720x360 with 1 Axes>"
      ]
     },
     "metadata": {
      "needs_background": "light"
     },
     "output_type": "display_data"
    }
   ],
   "source": [
    "for gol in ['goal_RM','goal_lawan','goal_diff']:\n",
    "    plt.plot(trend_goal['season'],trend_goal[gol])\n",
    "    plt.gcf().set_size_inches(10, 5)\n",
    "    plt.xlabel('Season', labelpad=10)\n",
    "    plt.ylabel('Jumlah')\n",
    "    plt.title(f'Trend {gol} Tiap Musim', fontsize=20)\n",
    "    plt.show()"
   ]
  },
  {
   "cell_type": "markdown",
   "id": "6aba2940",
   "metadata": {},
   "source": [
    "Dari plot tersebut kembali terlihat bahwa pembelian pemain dalam jumlah yang signifikan pada musim 2009/2010 memberikan dampak yang signifikan pula. Terlihat terjadi kenaikan jumlah gol memasukan yang signifikan pada musim tersebut dibandingkan musim sebelumnya. Selain itu, sejak musim 2009/2010 juga Real Madrid selalu mencetak gol > 100 gol permusimnya. Pola peningkatan performa yang sama juga terlihat pada jumlah gol kemasukan Real Madrid yang mengalami penurunan drastis pada musim 2009/2010."
   ]
  },
  {
   "cell_type": "code",
   "execution_count": 29,
   "id": "b80db86e",
   "metadata": {},
   "outputs": [],
   "source": [
    "perform_posisi = Hasil_RM_raw.groupby('posisi')[['goal_RM','goal_lawan']].sum()"
   ]
  },
  {
   "cell_type": "code",
   "execution_count": 30,
   "id": "db86050d",
   "metadata": {},
   "outputs": [
    {
     "data": {
      "image/png": "[encoded data removed]",
      "text/plain": [
       "<Figure size 720x360 with 1 Axes>"
      ]
     },
     "metadata": {
      "needs_background": "light"
     },
     "output_type": "display_data"
    }
   ],
   "source": [
    "perform_posisi.plot(kind='bar')\n",
    "plt.title('Performa goal Real Madrid Berdasarkan\\nPosisi Bermain', fontsize=20)\n",
    "plt.xlabel('Posisi',)\n",
    "plt.ylabel('Jumlah Goal')\n",
    "plt.xticks(rotation=0)\n",
    "plt.gcf().set_size_inches(10, 5)"
   ]
  },
  {
   "cell_type": "markdown",
   "id": "a1c05a91",
   "metadata": {},
   "source": [
    "Faktor posisi juga kembali terlihat berdampak pada perfomra gol Real Madrid. Real Madrid lebih sering memasukan gol saat bermain kandang ketimbang tandang. Selain itu jumlah gol kemasukan juga lebih sedikit saat bermain kandang ketimbang tandang."
   ]
  },
  {
   "cell_type": "code",
   "execution_count": 24,
   "id": "b24e1425",
   "metadata": {},
   "outputs": [],
   "source": [
    "Hasil_RM_raw['bulan'] = Hasil_RM_raw['date'].dt.month"
   ]
  },
  {
   "cell_type": "code",
   "execution_count": 25,
   "id": "f542e522",
   "metadata": {},
   "outputs": [
    {
     "data": {
      "text/html": [
       "<div>\n",
       "<style scoped>\n",
       "    .dataframe tbody tr th:only-of-type {\n",
       "        vertical-align: middle;\n",
       "    }\n",
       "\n",
       "    .dataframe tbody tr th {\n",
       "        vertical-align: top;\n",
       "    }\n",
       "\n",
       "    .dataframe thead th {\n",
       "        text-align: right;\n",
       "    }\n",
       "</style>\n",
       "<table border=\"1\" class=\"dataframe\">\n",
       "  <thead>\n",
       "    <tr style=\"text-align: right;\">\n",
       "      <th></th>\n",
       "      <th>season</th>\n",
       "      <th>date</th>\n",
       "      <th>home_team</th>\n",
       "      <th>away_team</th>\n",
       "      <th>home_team_goal</th>\n",
       "      <th>away_team_goal</th>\n",
       "      <th>posisi</th>\n",
       "      <th>goal_RM</th>\n",
       "      <th>goal_lawan</th>\n",
       "      <th>Hasil_RM</th>\n",
       "      <th>lawan</th>\n",
       "      <th>goal_diff</th>\n",
       "      <th>bulan</th>\n",
       "    </tr>\n",
       "  </thead>\n",
       "  <tbody>\n",
       "    <tr>\n",
       "      <th>0</th>\n",
       "      <td>2008/2009</td>\n",
       "      <td>2008-08-31</td>\n",
       "      <td>RC Deportivo de La Coruña</td>\n",
       "      <td>Real Madrid CF</td>\n",
       "      <td>2</td>\n",
       "      <td>1</td>\n",
       "      <td>Tandang</td>\n",
       "      <td>1</td>\n",
       "      <td>2</td>\n",
       "      <td>Kalah</td>\n",
       "      <td>RC Deportivo de La Coruña</td>\n",
       "      <td>-1</td>\n",
       "      <td>8</td>\n",
       "    </tr>\n",
       "    <tr>\n",
       "      <th>1</th>\n",
       "      <td>2008/2009</td>\n",
       "      <td>2008-09-14</td>\n",
       "      <td>Real Madrid CF</td>\n",
       "      <td>CD Numancia</td>\n",
       "      <td>4</td>\n",
       "      <td>3</td>\n",
       "      <td>Kandang</td>\n",
       "      <td>4</td>\n",
       "      <td>3</td>\n",
       "      <td>Menang</td>\n",
       "      <td>CD Numancia</td>\n",
       "      <td>1</td>\n",
       "      <td>9</td>\n",
       "    </tr>\n",
       "    <tr>\n",
       "      <th>2</th>\n",
       "      <td>2008/2009</td>\n",
       "      <td>2008-09-21</td>\n",
       "      <td>Racing Santander</td>\n",
       "      <td>Real Madrid CF</td>\n",
       "      <td>0</td>\n",
       "      <td>2</td>\n",
       "      <td>Tandang</td>\n",
       "      <td>2</td>\n",
       "      <td>0</td>\n",
       "      <td>Menang</td>\n",
       "      <td>Racing Santander</td>\n",
       "      <td>2</td>\n",
       "      <td>9</td>\n",
       "    </tr>\n",
       "    <tr>\n",
       "      <th>3</th>\n",
       "      <td>2008/2009</td>\n",
       "      <td>2008-09-24</td>\n",
       "      <td>Real Madrid CF</td>\n",
       "      <td>Real Sporting de Gijón</td>\n",
       "      <td>7</td>\n",
       "      <td>1</td>\n",
       "      <td>Kandang</td>\n",
       "      <td>7</td>\n",
       "      <td>1</td>\n",
       "      <td>Menang</td>\n",
       "      <td>Real Sporting de Gijón</td>\n",
       "      <td>6</td>\n",
       "      <td>9</td>\n",
       "    </tr>\n",
       "    <tr>\n",
       "      <th>4</th>\n",
       "      <td>2008/2009</td>\n",
       "      <td>2008-09-27</td>\n",
       "      <td>Real Betis Balompié</td>\n",
       "      <td>Real Madrid CF</td>\n",
       "      <td>1</td>\n",
       "      <td>2</td>\n",
       "      <td>Tandang</td>\n",
       "      <td>2</td>\n",
       "      <td>1</td>\n",
       "      <td>Menang</td>\n",
       "      <td>Real Betis Balompié</td>\n",
       "      <td>1</td>\n",
       "      <td>9</td>\n",
       "    </tr>\n",
       "  </tbody>\n",
       "</table>\n",
       "</div>"
      ],
      "text/plain": [
       "      season       date                  home_team               away_team  \\\n",
       "0  2008/2009 2008-08-31  RC Deportivo de La Coruña          Real Madrid CF   \n",
       "1  2008/2009 2008-09-14             Real Madrid CF             CD Numancia   \n",
       "2  2008/2009 2008-09-21           Racing Santander          Real Madrid CF   \n",
       "3  2008/2009 2008-09-24             Real Madrid CF  Real Sporting de Gijón   \n",
       "4  2008/2009 2008-09-27        Real Betis Balompié          Real Madrid CF   \n",
       "\n",
       "   home_team_goal  away_team_goal   posisi  goal_RM  goal_lawan Hasil_RM  \\\n",
       "0               2               1  Tandang        1           2    Kalah   \n",
       "1               4               3  Kandang        4           3   Menang   \n",
       "2               0               2  Tandang        2           0   Menang   \n",
       "3               7               1  Kandang        7           1   Menang   \n",
       "4               1               2  Tandang        2           1   Menang   \n",
       "\n",
       "                       lawan  goal_diff  bulan  \n",
       "0  RC Deportivo de La Coruña         -1      8  \n",
       "1                CD Numancia          1      9  \n",
       "2           Racing Santander          2      9  \n",
       "3     Real Sporting de Gijón          6      9  \n",
       "4        Real Betis Balompié          1      9  "
      ]
     },
     "execution_count": 25,
     "metadata": {},
     "output_type": "execute_result"
    }
   ],
   "source": [
    "Hasil_RM_raw.head()"
   ]
  },
  {
   "cell_type": "code",
   "execution_count": 26,
   "id": "33c1dc9e",
   "metadata": {},
   "outputs": [
    {
     "data": {
      "text/html": [
       "<div>\n",
       "<style scoped>\n",
       "    .dataframe tbody tr th:only-of-type {\n",
       "        vertical-align: middle;\n",
       "    }\n",
       "\n",
       "    .dataframe tbody tr th {\n",
       "        vertical-align: top;\n",
       "    }\n",
       "\n",
       "    .dataframe thead th {\n",
       "        text-align: right;\n",
       "    }\n",
       "</style>\n",
       "<table border=\"1\" class=\"dataframe\">\n",
       "  <thead>\n",
       "    <tr style=\"text-align: right;\">\n",
       "      <th>Hasil_RM</th>\n",
       "      <th>Kalah</th>\n",
       "      <th>Menang</th>\n",
       "      <th>Seri</th>\n",
       "    </tr>\n",
       "    <tr>\n",
       "      <th>bulan</th>\n",
       "      <th></th>\n",
       "      <th></th>\n",
       "      <th></th>\n",
       "    </tr>\n",
       "  </thead>\n",
       "  <tbody>\n",
       "    <tr>\n",
       "      <th>1</th>\n",
       "      <td>3.0</td>\n",
       "      <td>29.0</td>\n",
       "      <td>5.0</td>\n",
       "    </tr>\n",
       "    <tr>\n",
       "      <th>2</th>\n",
       "      <td>3.0</td>\n",
       "      <td>26.0</td>\n",
       "      <td>3.0</td>\n",
       "    </tr>\n",
       "    <tr>\n",
       "      <th>3</th>\n",
       "      <td>4.0</td>\n",
       "      <td>26.0</td>\n",
       "      <td>6.0</td>\n",
       "    </tr>\n",
       "    <tr>\n",
       "      <th>4</th>\n",
       "      <td>3.0</td>\n",
       "      <td>34.0</td>\n",
       "      <td>2.0</td>\n",
       "    </tr>\n",
       "    <tr>\n",
       "      <th>5</th>\n",
       "      <td>6.0</td>\n",
       "      <td>18.0</td>\n",
       "      <td>6.0</td>\n",
       "    </tr>\n",
       "    <tr>\n",
       "      <th>8</th>\n",
       "      <td>3.0</td>\n",
       "      <td>6.0</td>\n",
       "      <td>3.0</td>\n",
       "    </tr>\n",
       "    <tr>\n",
       "      <th>9</th>\n",
       "      <td>4.0</td>\n",
       "      <td>25.0</td>\n",
       "      <td>4.0</td>\n",
       "    </tr>\n",
       "    <tr>\n",
       "      <th>10</th>\n",
       "      <td>2.0</td>\n",
       "      <td>24.0</td>\n",
       "      <td>4.0</td>\n",
       "    </tr>\n",
       "    <tr>\n",
       "      <th>11</th>\n",
       "      <td>7.0</td>\n",
       "      <td>22.0</td>\n",
       "      <td>1.0</td>\n",
       "    </tr>\n",
       "    <tr>\n",
       "      <th>12</th>\n",
       "      <td>5.0</td>\n",
       "      <td>17.0</td>\n",
       "      <td>2.0</td>\n",
       "    </tr>\n",
       "  </tbody>\n",
       "</table>\n",
       "</div>"
      ],
      "text/plain": [
       "Hasil_RM  Kalah  Menang  Seri\n",
       "bulan                        \n",
       "1           3.0    29.0   5.0\n",
       "2           3.0    26.0   3.0\n",
       "3           4.0    26.0   6.0\n",
       "4           3.0    34.0   2.0\n",
       "5           6.0    18.0   6.0\n",
       "8           3.0     6.0   3.0\n",
       "9           4.0    25.0   4.0\n",
       "10          2.0    24.0   4.0\n",
       "11          7.0    22.0   1.0\n",
       "12          5.0    17.0   2.0"
      ]
     },
     "execution_count": 26,
     "metadata": {},
     "output_type": "execute_result"
    }
   ],
   "source": [
    "konsistensi_performa = Hasil_RM_raw.groupby(['bulan','Hasil_RM'])['date'].count().unstack()\n",
    "konsistensi_performa = konsistensi_performa.drop(6,axis=0)\n",
    "konsistensi_performa"
   ]
  },
  {
   "cell_type": "code",
   "execution_count": 27,
   "id": "50f54fe7",
   "metadata": {},
   "outputs": [
    {
     "data": {
      "text/html": [
       "<div>\n",
       "<style scoped>\n",
       "    .dataframe tbody tr th:only-of-type {\n",
       "        vertical-align: middle;\n",
       "    }\n",
       "\n",
       "    .dataframe tbody tr th {\n",
       "        vertical-align: top;\n",
       "    }\n",
       "\n",
       "    .dataframe thead th {\n",
       "        text-align: right;\n",
       "    }\n",
       "</style>\n",
       "<table border=\"1\" class=\"dataframe\">\n",
       "  <thead>\n",
       "    <tr style=\"text-align: right;\">\n",
       "      <th>Hasil_RM</th>\n",
       "      <th>Kalah</th>\n",
       "      <th>Menang</th>\n",
       "      <th>Seri</th>\n",
       "      <th>Ratio_Menang</th>\n",
       "    </tr>\n",
       "    <tr>\n",
       "      <th>bulan</th>\n",
       "      <th></th>\n",
       "      <th></th>\n",
       "      <th></th>\n",
       "      <th></th>\n",
       "    </tr>\n",
       "  </thead>\n",
       "  <tbody>\n",
       "    <tr>\n",
       "      <th>1</th>\n",
       "      <td>3.0</td>\n",
       "      <td>29.0</td>\n",
       "      <td>5.0</td>\n",
       "      <td>0.783784</td>\n",
       "    </tr>\n",
       "    <tr>\n",
       "      <th>2</th>\n",
       "      <td>3.0</td>\n",
       "      <td>26.0</td>\n",
       "      <td>3.0</td>\n",
       "      <td>0.812500</td>\n",
       "    </tr>\n",
       "    <tr>\n",
       "      <th>3</th>\n",
       "      <td>4.0</td>\n",
       "      <td>26.0</td>\n",
       "      <td>6.0</td>\n",
       "      <td>0.722222</td>\n",
       "    </tr>\n",
       "    <tr>\n",
       "      <th>4</th>\n",
       "      <td>3.0</td>\n",
       "      <td>34.0</td>\n",
       "      <td>2.0</td>\n",
       "      <td>0.871795</td>\n",
       "    </tr>\n",
       "    <tr>\n",
       "      <th>5</th>\n",
       "      <td>6.0</td>\n",
       "      <td>18.0</td>\n",
       "      <td>6.0</td>\n",
       "      <td>0.600000</td>\n",
       "    </tr>\n",
       "    <tr>\n",
       "      <th>8</th>\n",
       "      <td>3.0</td>\n",
       "      <td>6.0</td>\n",
       "      <td>3.0</td>\n",
       "      <td>0.500000</td>\n",
       "    </tr>\n",
       "    <tr>\n",
       "      <th>9</th>\n",
       "      <td>4.0</td>\n",
       "      <td>25.0</td>\n",
       "      <td>4.0</td>\n",
       "      <td>0.757576</td>\n",
       "    </tr>\n",
       "    <tr>\n",
       "      <th>10</th>\n",
       "      <td>2.0</td>\n",
       "      <td>24.0</td>\n",
       "      <td>4.0</td>\n",
       "      <td>0.800000</td>\n",
       "    </tr>\n",
       "    <tr>\n",
       "      <th>11</th>\n",
       "      <td>7.0</td>\n",
       "      <td>22.0</td>\n",
       "      <td>1.0</td>\n",
       "      <td>0.733333</td>\n",
       "    </tr>\n",
       "    <tr>\n",
       "      <th>12</th>\n",
       "      <td>5.0</td>\n",
       "      <td>17.0</td>\n",
       "      <td>2.0</td>\n",
       "      <td>0.708333</td>\n",
       "    </tr>\n",
       "  </tbody>\n",
       "</table>\n",
       "</div>"
      ],
      "text/plain": [
       "Hasil_RM  Kalah  Menang  Seri  Ratio_Menang\n",
       "bulan                                      \n",
       "1           3.0    29.0   5.0      0.783784\n",
       "2           3.0    26.0   3.0      0.812500\n",
       "3           4.0    26.0   6.0      0.722222\n",
       "4           3.0    34.0   2.0      0.871795\n",
       "5           6.0    18.0   6.0      0.600000\n",
       "8           3.0     6.0   3.0      0.500000\n",
       "9           4.0    25.0   4.0      0.757576\n",
       "10          2.0    24.0   4.0      0.800000\n",
       "11          7.0    22.0   1.0      0.733333\n",
       "12          5.0    17.0   2.0      0.708333"
      ]
     },
     "execution_count": 27,
     "metadata": {},
     "output_type": "execute_result"
    }
   ],
   "source": [
    "konsistensi_performa['Ratio_Menang'] = konsistensi_performa['Menang']/(konsistensi_performa['Menang']+konsistensi_performa['Seri']+konsistensi_performa['Kalah'])\n",
    "konsistensi_performa"
   ]
  },
  {
   "cell_type": "code",
   "execution_count": 28,
   "id": "8edaf756",
   "metadata": {},
   "outputs": [
    {
     "data": {
      "image/png": "[encoded data removed]",
      "text/plain": [
       "<Figure size 1080x360 with 1 Axes>"
      ]
     },
     "metadata": {
      "needs_background": "light"
     },
     "output_type": "display_data"
    }
   ],
   "source": [
    "plt.plot(konsistensi_performa.index,konsistensi_performa['Ratio_Menang'])\n",
    "plt.gcf().set_size_inches(15, 5)\n",
    "plt.xlabel('Bulan', labelpad=10)\n",
    "plt.ylabel('Ratio Kemenangan',labelpad=10)\n",
    "plt.title('Konsistensi Kemenangan Real Madrid Tiap Bulan', fontsize=20)\n",
    "plt.show()"
   ]
  },
  {
   "cell_type": "markdown",
   "id": "f1a44e11",
   "metadata": {},
   "source": [
    "Umumnya Real Madrid memiliki performa yang cukup stabil sepanjang musim dengan rasio kemenangan sekitar 70% hingga 85%. Namun, terlihat terjadi penurunan performa Real Madrid pada bulan ke 5 (Mei) dan bulan ke 8 (Agustus). Bulan-bulan tersebut merupakan akhir sebuah musim dan awal musim bagi kompetisi La Liga. Penurunan performa ini mungkin dapat dijelaskan bahwa:\n",
    "\n",
    "1. Ketika bulan Mei, umumnya La Liga sudah memiliki juaranya sehingga hasil pertandingan menjadi tidak berarti dalam kaitannya dengan perebutan gelar juara. Oleh karena itu, tim Real Madrid akan lebih sering melakukan rotasi pemain. Hal ini juga didukung dengan fakta bahwa pada turnamen lain seperti Copa del Rey dan Liga Champions pada bulan tersebut sedang berada dalam babak yang krusial (penentuan juara). Sehingga masuk akal bila Real Madrid lebih memprioritaskan turnamen tersebut daripada La Liga. Walaupun pada musim tertentu, pemenang La Liga ditentukan hingga akhir musim\n",
    "\n",
    "2. Ketika bulan Agustus, bulan ini merupakan awal musim. Biasanya diawal musim, tim-tim masih melakukan adaptasi serta performa pemain yang belum 100%. Apabila suatu tim tidak dapat memanfaatkan pra musim dengan baik maka sangat mungkin bahwa hasil yang diperoleh pun kurnag maksimal karena proses adaptasi pemain dan taktik baru yang belum sempurna."
   ]
  },
  {
   "cell_type": "markdown",
   "id": "9f8d4945",
   "metadata": {},
   "source": [
    "## Kesimpulan\n",
    "\n",
    "Beberapa kesimpulan dapat diambil dari analisis ini:\n",
    "1. Real Madrid memiliki *winning rate* yang tinggi pada rentang musim tersebut yaitu 75%\n",
    "2. Projek Galacticos (Pembelian pemain bintang dalam jumlah banyak) pada musim 2009/2010 memberikan efek yang signifikan dengan kenaikan performa tim baik dari segi hasil maupun gol.\n",
    "3. Real Madrid paling sering kalah melawan Barcelona dengan total 10 kali kekalahan\n",
    "4. Real Madrid umumnya akan memiliki performa yang lebih baik pada saat bermain dalam posisi kandang baik dalam segi hasil maupun gol\n",
    "5. Real Madrid merupakan tim yang cukup konsisten sepanjang musim."
   ]
  },
  {
   "cell_type": "markdown",
   "id": "a3931232",
   "metadata": {},
   "source": [
    "# Penutup\n",
    "\n",
    "Terimakasih telah membaca analisis ini. Penulis sadar bahwa masih banyak kekurangan dalam analisis ini dan dapat dikembangkan lebih baik lagi. Penulis juga sadar bahwa penulis masih pemula dalam hal analisis data dan masih perlu peningkatan kemampuan.\n",
    "\n",
    "Analisis ini dibuat oleh: Muhammad Rizaldi Yani <br>\n",
    "Kontak: rizaldiyani8@gmail.com"
   ]
  }
 ],
 "metadata": {
  "kernelspec": {
   "display_name": "Python 3 (ipykernel)",
   "language": "python",
   "name": "python3"
  },
  "language_info": {
   "codemirror_mode": {
    "name": "ipython",
    "version": 3
   },
   "file_extension": ".py",
   "mimetype": "text/x-python",
   "name": "python",
   "nbconvert_exporter": "python",
   "pygments_lexer": "ipython3",
   "version": "3.9.12"
  }
 },
 "nbformat": 4,
 "nbformat_minor": 5
}
